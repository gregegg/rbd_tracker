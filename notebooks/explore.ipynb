{
 "cells": [
  {
   "cell_type": "code",
   "execution_count": null,
   "metadata": {},
   "outputs": [],
   "source": [
    "import json\n",
    "import pandas as pd\n",
    "import numpy as np\n",
    "from pathlib import Path \n",
    "\n",
    "import hvplot.pandas\n",
    "\n"
   ]
  },
  {
   "cell_type": "code",
   "execution_count": 259,
   "metadata": {},
   "outputs": [],
   "source": [
    "# load the sleep data into a pandas dataframe\n",
    "sleep_data_json = Path('../data/raw/dummy_data.json')\n",
    "\n",
    "with open(sleep_data_json) as f:\n",
    "    sleep_data = json.load(f)\n",
    "\n",
    "df = pd.DataFrame(sleep_data)"
   ]
  },
  {
   "cell_type": "code",
   "execution_count": null,
   "metadata": {},
   "outputs": [],
   "source": [
    "# filter by long_sleep to get nighttime sleep\n",
    "df[df['type'] == 'long_sleep']"
   ]
  },
  {
   "cell_type": "code",
   "execution_count": null,
   "metadata": {},
   "outputs": [],
   "source": [
    "# examine one night of sleep\n",
    "df_1night = df[df['type'] == 'long_sleep'].iloc[5]\n",
    "df_1night"
   ]
  },
  {
   "cell_type": "code",
   "execution_count": null,
   "metadata": {},
   "outputs": [],
   "source": [
    "# 420 min worth of sleep phase\n",
    "len(df_1night['sleep_phase_5_min']) * 5 "
   ]
  },
  {
   "cell_type": "code",
   "execution_count": null,
   "metadata": {},
   "outputs": [],
   "source": [
    "# 418 min worth worth of movement #\n",
    "len(df_1night['movement_30_sec']) / 2 "
   ]
  },
  {
   "cell_type": "code",
   "execution_count": null,
   "metadata": {},
   "outputs": [],
   "source": [
    "# 418 min = 25080 sec, which matches up with 'time_in_bed' in the json file\n",
    "df_1night['time_in_bed']"
   ]
  },
  {
   "cell_type": "code",
   "execution_count": null,
   "metadata": {},
   "outputs": [],
   "source": [
    "df[df['type'] == 'long_sleep']['day'].unique()"
   ]
  },
  {
   "cell_type": "code",
   "execution_count": null,
   "metadata": {},
   "outputs": [],
   "source": [
    "# Convert the bedtime_start to a pandas datetime object\n",
    "bedtime_start = pd.to_datetime(df_1night['bedtime_start'])\n",
    "\n",
    "# Extract the movement and sleep phase data\n",
    "movement_30_sec = [int(s) for s in list(df_1night['movement_30_sec'])]\n",
    "sleep_phase_5_min = [int(s) for s in list(df_1night['sleep_phase_5_min'])]\n",
    "\n",
    "# Create a pandas timeseries with 30-second intervals\n",
    "timeseries_30_sec = pd.date_range(start=bedtime_start, periods=len(movement_30_sec), freq='30s')\n",
    "\n",
    "# Repeat the sleep phase data to match the new times array\n",
    "sleep_phase_30_sec = np.repeat(sleep_phase_5_min, (5 * 60) // 30)[:len(timeseries_30_sec)]\n",
    "\n",
    "# Create the resampled DataFrame\n",
    "df_resampled = pd.DataFrame({'time': timeseries_30_sec, 'movement': movement_30_sec, 'sleep_phase': sleep_phase_30_sec})\n",
    "df_resampled.loc[:,'day'] = df_1night['day']\n",
    "df_resampled.set_index(['day', 'time'], inplace=True)\n",
    "df_resampled"
   ]
  },
  {
   "cell_type": "code",
   "execution_count": null,
   "metadata": {},
   "outputs": [],
   "source": [
    "# identify potential RBD events\n",
    "df_resampled.loc[(df_resampled['movement'] >= 3) & (df_resampled['sleep_phase'] == 3), 'RBD'] = df_resampled['movement'] + 0.5\n",
    "df_resampled.loc[(df_resampled['movement'] >= 3) & (df_resampled['sleep_phase'] == 3)]"
   ]
  },
  {
   "cell_type": "code",
   "execution_count": null,
   "metadata": {},
   "outputs": [],
   "source": [
    "# Make a plot of the sleep phase and movement data, with potential RBD events highlighted\n",
    "\n",
    "from holoviews import opts\n",
    "from bokeh.models.formatters import DatetimeTickFormatter\n",
    "\n",
    "# Create a DatetimeTickFormatter with the desired format\n",
    "formatter = DatetimeTickFormatter(hours='%H:%M', minutes='%H:%M')\n",
    "\n",
    "# Define the mapping of numerical values to text labels for sleep phases\n",
    "sleep_phase_labels = {\n",
    "    1: 'Deep Sleep',\n",
    "    2: 'Light Sleep',\n",
    "    3: 'REM Sleep',\n",
    "    4: 'Awake'\n",
    "}\n",
    "\n",
    "# Plot the line and scatter with a secondary y-axis\n",
    "line_plot = df_resampled.hvplot.line(x='time', y='sleep_phase', xformatter=formatter, label='Sleep Phase').opts(\n",
    "    ylabel='Sleep Phase',\n",
    "    yticks=[(k, v) for k, v in sleep_phase_labels.items()]\n",
    ")\n",
    "line_plot2 = df_resampled.hvplot.line(x='time', y='movement', xformatter=formatter, label='Movement').opts(\n",
    "    ylabel='Movement', color='orange'\n",
    ")\n",
    "scatter_plot = df_resampled.hvplot.scatter(x='time', y='RBD', color='green', size=20, label='RBD Event?').opts(\n",
    "    yaxis='right',\n",
    "    ylabel='RBD'\n",
    ")\n",
    "\n",
    "# Combine the plots\n",
    "combined_plot = line_plot * line_plot2 * scatter_plot\n",
    "combined_plot.opts(\n",
    "    opts.Overlay(\n",
    "        yaxis='left',\n",
    "        yformatter='%d'  # Adjust y-axis formatter if needed\n",
    "    )\n",
    ")"
   ]
  }
 ],
 "metadata": {
  "kernelspec": {
   "display_name": "rbd_dev",
   "language": "python",
   "name": "python3"
  },
  "language_info": {
   "codemirror_mode": {
    "name": "ipython",
    "version": 3
   },
   "file_extension": ".py",
   "mimetype": "text/x-python",
   "name": "python",
   "nbconvert_exporter": "python",
   "pygments_lexer": "ipython3",
   "version": "3.12.7"
  }
 },
 "nbformat": 4,
 "nbformat_minor": 2
}
